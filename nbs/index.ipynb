{
 "cells": [
  {
   "cell_type": "code",
   "execution_count": null,
   "metadata": {},
   "outputs": [],
   "source": [
    "#| hide\n",
    "from tei_excel_tools.core import *"
   ]
  },
  {
   "attachments": {},
   "cell_type": "markdown",
   "metadata": {},
   "source": [
    "# tei_excel_tools\n",
    "\n",
    "> ExcelからTEI/XMLファイルを作成するツール"
   ]
  },
  {
   "cell_type": "markdown",
   "metadata": {},
   "source": [
    "## Install"
   ]
  },
  {
   "cell_type": "markdown",
   "metadata": {},
   "source": [
    "```sh\n",
    "pip install tei_excel_tools\n",
    "```"
   ]
  },
  {
   "cell_type": "markdown",
   "metadata": {},
   "source": [
    "## How to use"
   ]
  },
  {
   "attachments": {},
   "cell_type": "markdown",
   "metadata": {},
   "source": [
    "所定のフォーマットを持つExcelファイルを格納した入力パス、およびTEI/XMLファイルの出力パスを指定してください。\n",
    "\n",
    "フォーマットは以下でご確認ください。\n",
    "\n",
    "[https://zenn.dev/articles/4a4b3c50745c87](https://zenn.dev/articles/4a4b3c50745c87)"
   ]
  },
  {
   "cell_type": "code",
   "execution_count": null,
   "metadata": {},
   "outputs": [],
   "source": [
    "input_path = \"data/sample.xlsx\"\n",
    "output_path = \"data/output.xml\"\n",
    "\n",
    "xml_string = Client.convertExcel(input_path)\n",
    "Client.save(xml_string, output_path)"
   ]
  }
 ],
 "metadata": {
  "kernelspec": {
   "display_name": "base",
   "language": "python",
   "name": "python3"
  }
 },
 "nbformat": 4,
 "nbformat_minor": 4
}
